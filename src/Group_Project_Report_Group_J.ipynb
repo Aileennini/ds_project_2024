{
 "cells": [
  {
   "cell_type": "markdown",
   "id": "b62e6d87-a025-46e8-8914-64bf9be8d066",
   "metadata": {},
   "source": [
    "# 2024 Project"
   ]
  },
  {
   "cell_type": "markdown",
   "id": "3010a285-3e9f-4ae3-b2f4-6dde75c55bb6",
   "metadata": {},
   "source": [
    "# NSW Electricity Demand Forecast"
   ]
  },
  {
   "cell_type": "markdown",
   "id": "dc430d97-9267-4567-ab5f-e05201606a32",
   "metadata": {
    "tags": []
   },
   "source": [
    "## Data Exploration"
   ]
  },
  {
   "cell_type": "markdown",
   "id": "cc467fa7-8acb-4b02-93e8-22f02341f636",
   "metadata": {},
   "source": [
    "### Read Data"
   ]
  },
  {
   "cell_type": "markdown",
   "id": "4261fa6d-2711-4b7f-a12e-7f3585a3cbce",
   "metadata": {},
   "source": [
    "We use 4 data sources: temperature_nsw.csv (provided by the course), totaldemand_nsw.csv (provided by the course), population_nsw.csv (collected from the [website of Austraian Bureau of Statistics](https://www.abs.gov.au/statistics/people/population/national-state-and-territory-population/dec-2022)) and GDP.csv (collected from the [website of Austraian Bureau of Statistics](https://www.abs.gov.au/statistics/economy/national-accounts/australian-national-accounts-national-income-expenditure-and-product/latest-release#state-and-territory-final-demand)). These datasets encompass crucial variables for our analysis, namely temperature, population, GDP, and energy demand. However, the GDP data reflects the national figure rather than being specific to New South Wales (NSW), as such detailed state-level data was not accessible. To adjust for this, we proceed under the assumption that GDP trends in NSW are representative of the national average, thereby applying the Australia-wide GDP statistics to our NSW-centric forecasting model.\n"
   ]
  },
  {
   "cell_type": "code",
   "execution_count": 1,
   "id": "ff56ee96-734a-415e-9164-94d46a28c735",
   "metadata": {},
   "outputs": [],
   "source": [
    "# Import necessary libaraies\n",
    "import pandas as pd"
   ]
  },
  {
   "cell_type": "code",
   "execution_count": 2,
   "id": "daafd725-b333-42c0-b361-ed96c581464c",
   "metadata": {},
   "outputs": [],
   "source": [
    "# Read Temperature file\n",
    "temperature = pd.read_csv('../data/NSW/temperature_nsw.csv')"
   ]
  },
  {
   "cell_type": "code",
   "execution_count": null,
   "id": "7e72dab0-6d44-4e24-920a-f46f91693b34",
   "metadata": {},
   "outputs": [],
   "source": []
  }
 ],
 "metadata": {
  "kernelspec": {
   "display_name": "Python 3 (ipykernel)",
   "language": "python",
   "name": "python3"
  },
  "language_info": {
   "codemirror_mode": {
    "name": "ipython",
    "version": 3
   },
   "file_extension": ".py",
   "mimetype": "text/x-python",
   "name": "python",
   "nbconvert_exporter": "python",
   "pygments_lexer": "ipython3",
   "version": "3.10.9"
  }
 },
 "nbformat": 4,
 "nbformat_minor": 5
}
