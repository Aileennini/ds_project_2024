{
 "cells": [
  {
   "cell_type": "markdown",
   "id": "b62e6d87-a025-46e8-8914-64bf9be8d066",
   "metadata": {},
   "source": [
    "# 2024 Project"
   ]
  },
  {
   "cell_type": "markdown",
   "id": "3010a285-3e9f-4ae3-b2f4-6dde75c55bb6",
   "metadata": {},
   "source": [
    "# NSW Electricity Demand Forecast"
   ]
  },
  {
   "cell_type": "markdown",
   "id": "dc430d97-9267-4567-ab5f-e05201606a32",
   "metadata": {
    "tags": []
   },
   "source": [
    "## Data Exploration"
   ]
  },
  {
   "cell_type": "markdown",
   "id": "cc467fa7-8acb-4b02-93e8-22f02341f636",
   "metadata": {},
   "source": [
    "### Read Data"
   ]
  },
  {
   "cell_type": "markdown",
   "id": "4261fa6d-2711-4b7f-a12e-7f3585a3cbce",
   "metadata": {},
   "source": [
    "We use 4 data sources: temperature_nsw.csv (provided by the course), totaldemand_nsw.csv (provided by the course), population_nsw.csv (collected from the [website of Austraian Bureau of Statistics](https://www.abs.gov.au/statistics/people/population/national-state-and-territory-population/dec-2022)) and GDP.csv (collected from the [website of Austraian Bureau of Statistics](https://www.abs.gov.au/statistics/economy/national-accounts/australian-national-accounts-national-income-expenditure-and-product/latest-release#state-and-territory-final-demand)). These datasets encompass crucial variables for our analysis, namely temperature, population, GDP, and energy demand. However, the GDP data reflects the national figure rather than being specific to New South Wales (NSW), as such detailed state-level data was not accessible. To adjust for this, we proceed under the assumption that GDP trends in NSW are representative of the national average, thereby applying the Australia-wide GDP statistics to our NSW-centric forecasting model."
   ]
  },
  {
   "cell_type": "code",
   "execution_count": 1,
   "id": "ff56ee96-734a-415e-9164-94d46a28c735",
   "metadata": {},
   "outputs": [],
   "source": [
    "# Import necessary libaraies\n",
    "import pandas as pd\n",
    "import matplotlib.pyplot as plt\n",
    "from sklearn.model_selection import train_test_split"
   ]
  },
  {
   "cell_type": "code",
   "execution_count": 2,
   "id": "daafd725-b333-42c0-b361-ed96c581464c",
   "metadata": {},
   "outputs": [],
   "source": [
    "# Read Temperature file\n",
    "df_temp = pd.read_csv('../data/NSW/temperature_nsw.csv')\n",
    "df_temp.columns = df_temp.columns.str.lower()"
   ]
  },
  {
   "cell_type": "code",
   "execution_count": 3,
   "id": "7e72dab0-6d44-4e24-920a-f46f91693b34",
   "metadata": {},
   "outputs": [],
   "source": [
    "# Read totaldemand file\n",
    "df_demand = pd.read_csv('../data/NSW/totaldemand_nsw.csv')\n",
    "df_demand.columns = df_demand.columns.str.lower()"
   ]
  },
  {
   "cell_type": "code",
   "execution_count": 4,
   "id": "a0105768-40fe-4de9-acaf-b6f2fd765ccc",
   "metadata": {},
   "outputs": [],
   "source": [
    "# Read population file\n",
    "df_population = pd.read_csv('../data/NSW/population_nsw.csv')\n",
    "df_population.columns = df_population.columns.str.lower()"
   ]
  },
  {
   "cell_type": "code",
   "execution_count": 5,
   "id": "085d6071-1026-44a1-931c-77a84144cef5",
   "metadata": {},
   "outputs": [],
   "source": [
    "# Read GDP file\n",
    "df_gdp = pd.read_csv('../data/NSW/GDP.csv')\n",
    "df_gdp.columns = df_gdp.columns.str.lower()"
   ]
  },
  {
   "cell_type": "markdown",
   "id": "fd323c3a-0c7e-42e0-8462-860f065a3641",
   "metadata": {},
   "source": [
    "### First glance at the data"
   ]
  },
  {
   "cell_type": "code",
   "execution_count": 6,
   "id": "58459234-39f8-4139-94c6-b22ac2cf13dd",
   "metadata": {},
   "outputs": [
    {
     "data": {
      "text/html": [
       "<div>\n",
       "<style scoped>\n",
       "    .dataframe tbody tr th:only-of-type {\n",
       "        vertical-align: middle;\n",
       "    }\n",
       "\n",
       "    .dataframe tbody tr th {\n",
       "        vertical-align: top;\n",
       "    }\n",
       "\n",
       "    .dataframe thead th {\n",
       "        text-align: right;\n",
       "    }\n",
       "</style>\n",
       "<table border=\"1\" class=\"dataframe\">\n",
       "  <thead>\n",
       "    <tr style=\"text-align: right;\">\n",
       "      <th></th>\n",
       "      <th>location</th>\n",
       "      <th>datetime</th>\n",
       "      <th>temperature</th>\n",
       "    </tr>\n",
       "  </thead>\n",
       "  <tbody>\n",
       "    <tr>\n",
       "      <th>0</th>\n",
       "      <td>Bankstown</td>\n",
       "      <td>1/1/2010 0:00</td>\n",
       "      <td>23.1</td>\n",
       "    </tr>\n",
       "    <tr>\n",
       "      <th>1</th>\n",
       "      <td>Bankstown</td>\n",
       "      <td>1/1/2010 0:01</td>\n",
       "      <td>23.1</td>\n",
       "    </tr>\n",
       "    <tr>\n",
       "      <th>2</th>\n",
       "      <td>Bankstown</td>\n",
       "      <td>1/1/2010 0:30</td>\n",
       "      <td>22.9</td>\n",
       "    </tr>\n",
       "    <tr>\n",
       "      <th>3</th>\n",
       "      <td>Bankstown</td>\n",
       "      <td>1/1/2010 0:50</td>\n",
       "      <td>22.7</td>\n",
       "    </tr>\n",
       "    <tr>\n",
       "      <th>4</th>\n",
       "      <td>Bankstown</td>\n",
       "      <td>1/1/2010 1:00</td>\n",
       "      <td>22.6</td>\n",
       "    </tr>\n",
       "  </tbody>\n",
       "</table>\n",
       "</div>"
      ],
      "text/plain": [
       "    location       datetime  temperature\n",
       "0  Bankstown  1/1/2010 0:00         23.1\n",
       "1  Bankstown  1/1/2010 0:01         23.1\n",
       "2  Bankstown  1/1/2010 0:30         22.9\n",
       "3  Bankstown  1/1/2010 0:50         22.7\n",
       "4  Bankstown  1/1/2010 1:00         22.6"
      ]
     },
     "execution_count": 6,
     "metadata": {},
     "output_type": "execute_result"
    }
   ],
   "source": [
    "df_temp.head()"
   ]
  },
  {
   "cell_type": "code",
   "execution_count": 7,
   "id": "5a10c801-60af-46d5-afad-347950ffe055",
   "metadata": {},
   "outputs": [
    {
     "data": {
      "text/plain": [
       "1"
      ]
     },
     "execution_count": 7,
     "metadata": {},
     "output_type": "execute_result"
    }
   ],
   "source": [
    "df_temp['location'].nunique()"
   ]
  },
  {
   "cell_type": "code",
   "execution_count": 8,
   "id": "cb0be7a1-6846-4279-98de-8c8c0dffb05d",
   "metadata": {},
   "outputs": [
    {
     "data": {
      "text/html": [
       "<div>\n",
       "<style scoped>\n",
       "    .dataframe tbody tr th:only-of-type {\n",
       "        vertical-align: middle;\n",
       "    }\n",
       "\n",
       "    .dataframe tbody tr th {\n",
       "        vertical-align: top;\n",
       "    }\n",
       "\n",
       "    .dataframe thead th {\n",
       "        text-align: right;\n",
       "    }\n",
       "</style>\n",
       "<table border=\"1\" class=\"dataframe\">\n",
       "  <thead>\n",
       "    <tr style=\"text-align: right;\">\n",
       "      <th></th>\n",
       "      <th>datetime</th>\n",
       "      <th>totaldemand</th>\n",
       "      <th>regionid</th>\n",
       "    </tr>\n",
       "  </thead>\n",
       "  <tbody>\n",
       "    <tr>\n",
       "      <th>0</th>\n",
       "      <td>1/1/2010 0:00</td>\n",
       "      <td>8038.00</td>\n",
       "      <td>NSW1</td>\n",
       "    </tr>\n",
       "    <tr>\n",
       "      <th>1</th>\n",
       "      <td>1/1/2010 0:30</td>\n",
       "      <td>7809.31</td>\n",
       "      <td>NSW1</td>\n",
       "    </tr>\n",
       "    <tr>\n",
       "      <th>2</th>\n",
       "      <td>1/1/2010 1:00</td>\n",
       "      <td>7483.69</td>\n",
       "      <td>NSW1</td>\n",
       "    </tr>\n",
       "    <tr>\n",
       "      <th>3</th>\n",
       "      <td>1/1/2010 1:30</td>\n",
       "      <td>7117.23</td>\n",
       "      <td>NSW1</td>\n",
       "    </tr>\n",
       "    <tr>\n",
       "      <th>4</th>\n",
       "      <td>1/1/2010 2:00</td>\n",
       "      <td>6812.03</td>\n",
       "      <td>NSW1</td>\n",
       "    </tr>\n",
       "  </tbody>\n",
       "</table>\n",
       "</div>"
      ],
      "text/plain": [
       "        datetime  totaldemand regionid\n",
       "0  1/1/2010 0:00      8038.00     NSW1\n",
       "1  1/1/2010 0:30      7809.31     NSW1\n",
       "2  1/1/2010 1:00      7483.69     NSW1\n",
       "3  1/1/2010 1:30      7117.23     NSW1\n",
       "4  1/1/2010 2:00      6812.03     NSW1"
      ]
     },
     "execution_count": 8,
     "metadata": {},
     "output_type": "execute_result"
    }
   ],
   "source": [
    "df_demand.head()"
   ]
  },
  {
   "cell_type": "code",
   "execution_count": 9,
   "id": "60c0d408-f444-447b-89ed-44a85c142d4b",
   "metadata": {},
   "outputs": [
    {
     "data": {
      "text/plain": [
       "1"
      ]
     },
     "execution_count": 9,
     "metadata": {},
     "output_type": "execute_result"
    }
   ],
   "source": [
    "df_demand['regionid'].nunique()"
   ]
  },
  {
   "cell_type": "code",
   "execution_count": 10,
   "id": "46bca85a-11b5-4ab2-a028-ee9fbaa0456e",
   "metadata": {},
   "outputs": [
    {
     "data": {
      "text/html": [
       "<div>\n",
       "<style scoped>\n",
       "    .dataframe tbody tr th:only-of-type {\n",
       "        vertical-align: middle;\n",
       "    }\n",
       "\n",
       "    .dataframe tbody tr th {\n",
       "        vertical-align: top;\n",
       "    }\n",
       "\n",
       "    .dataframe thead th {\n",
       "        text-align: right;\n",
       "    }\n",
       "</style>\n",
       "<table border=\"1\" class=\"dataframe\">\n",
       "  <thead>\n",
       "    <tr style=\"text-align: right;\">\n",
       "      <th></th>\n",
       "      <th>time</th>\n",
       "      <th>population</th>\n",
       "    </tr>\n",
       "  </thead>\n",
       "  <tbody>\n",
       "    <tr>\n",
       "      <th>0</th>\n",
       "      <td>Dec-2009</td>\n",
       "      <td>7101504</td>\n",
       "    </tr>\n",
       "    <tr>\n",
       "      <th>1</th>\n",
       "      <td>Mar-2010</td>\n",
       "      <td>7128356</td>\n",
       "    </tr>\n",
       "    <tr>\n",
       "      <th>2</th>\n",
       "      <td>Jun-2010</td>\n",
       "      <td>7144292</td>\n",
       "    </tr>\n",
       "    <tr>\n",
       "      <th>3</th>\n",
       "      <td>Sep-2010</td>\n",
       "      <td>7162726</td>\n",
       "    </tr>\n",
       "    <tr>\n",
       "      <th>4</th>\n",
       "      <td>Dec-2010</td>\n",
       "      <td>7179891</td>\n",
       "    </tr>\n",
       "  </tbody>\n",
       "</table>\n",
       "</div>"
      ],
      "text/plain": [
       "       time  population\n",
       "0  Dec-2009     7101504\n",
       "1  Mar-2010     7128356\n",
       "2  Jun-2010     7144292\n",
       "3  Sep-2010     7162726\n",
       "4  Dec-2010     7179891"
      ]
     },
     "execution_count": 10,
     "metadata": {},
     "output_type": "execute_result"
    }
   ],
   "source": [
    "df_population.head()"
   ]
  },
  {
   "cell_type": "code",
   "execution_count": 11,
   "id": "6463a209-7740-411f-a314-b85e697d0ac9",
   "metadata": {},
   "outputs": [
    {
     "data": {
      "text/html": [
       "<div>\n",
       "<style scoped>\n",
       "    .dataframe tbody tr th:only-of-type {\n",
       "        vertical-align: middle;\n",
       "    }\n",
       "\n",
       "    .dataframe tbody tr th {\n",
       "        vertical-align: top;\n",
       "    }\n",
       "\n",
       "    .dataframe thead th {\n",
       "        text-align: right;\n",
       "    }\n",
       "</style>\n",
       "<table border=\"1\" class=\"dataframe\">\n",
       "  <thead>\n",
       "    <tr style=\"text-align: right;\">\n",
       "      <th></th>\n",
       "      <th>time</th>\n",
       "      <th>gdp</th>\n",
       "    </tr>\n",
       "  </thead>\n",
       "  <tbody>\n",
       "    <tr>\n",
       "      <th>0</th>\n",
       "      <td>Dec-2009</td>\n",
       "      <td>334934</td>\n",
       "    </tr>\n",
       "    <tr>\n",
       "      <th>1</th>\n",
       "      <td>Mar-2010</td>\n",
       "      <td>314838</td>\n",
       "    </tr>\n",
       "    <tr>\n",
       "      <th>2</th>\n",
       "      <td>Jun-2010</td>\n",
       "      <td>340575</td>\n",
       "    </tr>\n",
       "    <tr>\n",
       "      <th>3</th>\n",
       "      <td>Sep-2010</td>\n",
       "      <td>345512</td>\n",
       "    </tr>\n",
       "    <tr>\n",
       "      <th>4</th>\n",
       "      <td>Dec-2010</td>\n",
       "      <td>365403</td>\n",
       "    </tr>\n",
       "  </tbody>\n",
       "</table>\n",
       "</div>"
      ],
      "text/plain": [
       "       time     gdp\n",
       "0  Dec-2009  334934\n",
       "1  Mar-2010  314838\n",
       "2  Jun-2010  340575\n",
       "3  Sep-2010  345512\n",
       "4  Dec-2010  365403"
      ]
     },
     "execution_count": 11,
     "metadata": {},
     "output_type": "execute_result"
    }
   ],
   "source": [
    "df_gdp.head()"
   ]
  },
  {
   "cell_type": "markdown",
   "id": "3fa18fbe-093a-42ab-aa4e-bb210c406411",
   "metadata": {},
   "source": [
    "### Check Correlation between demand and each variables"
   ]
  },
  {
   "cell_type": "markdown",
   "id": "fbb8030d-ab21-450e-bf73-c3119db11223",
   "metadata": {},
   "source": [
    "#### Temperature and Demand"
   ]
  },
  {
   "cell_type": "code",
   "execution_count": 12,
   "id": "fd1b15e1-ba53-42e2-a01b-222b0b33e0f2",
   "metadata": {},
   "outputs": [],
   "source": [
    "df_temp_demand = pd.merge(df_temp, df_demand, on='datetime')"
   ]
  },
  {
   "cell_type": "code",
   "execution_count": 13,
   "id": "0e8304d1-d8d6-4deb-ab18-ce2de69d92f6",
   "metadata": {},
   "outputs": [
    {
     "data": {
      "image/png": "[encoded data removed]",
      "text/plain": [
       "<Figure size 1000x600 with 1 Axes>"
      ]
     },
     "metadata": {},
     "output_type": "display_data"
    }
   ],
   "source": [
    "plt.figure(figsize=(10, 6))\n",
    "plt.scatter(df_temp_demand['temperature'], df_temp_demand['totaldemand'])\n",
    "plt.title('Temperature NSW vs. Electricity Demand NSW')\n",
    "plt.xlabel('Temperature (degree)')\n",
    "plt.ylabel('Electricity Demand')\n",
    "plt.grid(True)\n",
    "plt.show()"
   ]
  },
  {
   "cell_type": "markdown",
   "id": "9e2e29b0-40d0-4bbe-9959-8ede69d4d5db",
   "metadata": {},
   "source": [
    "As depicted in the graph, it resembles a V shape. Below approximately 20 degrees, the demand increases as the temperature decreases; above 20 degrees, the demand rises with increasing temperature. This pattern aligns with our everyday experience. Temperature is useful in our modeling. "
   ]
  },
  {
   "cell_type": "markdown",
   "id": "ef91cef9-3743-41bc-aef9-7648d1ba939d",
   "metadata": {},
   "source": [
    "#### Population and Demand"
   ]
  },
  {
   "cell_type": "markdown",
   "id": "1b5fe574-45bf-4279-af1f-6a02897e4f7c",
   "metadata": {},
   "source": [
    "The demand is recorded every 30 mins while GDP quarterly. We shall aggregate the electricity demand to a quarterly frequency. We can calculate the average demand for each quarter. "
   ]
  },
  {
   "cell_type": "code",
   "execution_count": 14,
   "id": "2f0f4748-9f48-4aa4-932a-fa21b117df6a",
   "metadata": {},
   "outputs": [],
   "source": [
    "df_demand['time'] = pd.to_datetime(df_demand['datetime'], format='%d/%m/%Y %H:%M') "
   ]
  },
  {
   "cell_type": "code",
   "execution_count": 15,
   "id": "fe350aa6-f470-46c6-ac16-a4bf41588316",
   "metadata": {},
   "outputs": [],
   "source": [
    "df_demand.set_index('time', inplace=True) \n",
    "total_demand_quarterly = df_demand['totaldemand'].resample('Q').mean()\n",
    "df_total_demand_quarterly = total_demand_quarterly.reset_index()"
   ]
  },
  {
   "cell_type": "code",
   "execution_count": 16,
   "id": "7eda5f07-fc29-4805-a102-bb7173b030a8",
   "metadata": {},
   "outputs": [],
   "source": [
    "df_total_demand_quarterly['normalized_demand'] = (df_total_demand_quarterly['totaldemand'] - df_total_demand_quarterly['totaldemand'].mean()) / df_total_demand_quarterly['totaldemand'].std()"
   ]
  },
  {
   "cell_type": "code",
   "execution_count": 17,
   "id": "2f447cc5-e7cb-46da-8089-410ce5f5f8a1",
   "metadata": {},
   "outputs": [],
   "source": [
    "df_population['time'] = pd.to_datetime(df_population['time'], format='%b-%Y')\n",
    "df_population['time'] = df_population['time'] + pd.offsets.MonthEnd(1)\n",
    "df_population['normalized_population'] = (df_population['population'] - df_population['population'].mean()) / df_population['population'].std()"
   ]
  },
  {
   "cell_type": "code",
   "execution_count": 18,
   "id": "79de5ee6-b500-4898-926e-40ee7f119d12",
   "metadata": {},
   "outputs": [
    {
     "data": {
      "image/png": "[encoded data removed]",
      "text/plain": [
       "<Figure size 1000x600 with 1 Axes>"
      ]
     },
     "metadata": {},
     "output_type": "display_data"
    }
   ],
   "source": [
    "plt.figure(figsize=(10, 6))\n",
    "plt.plot(df_total_demand_quarterly['time'], df_total_demand_quarterly['normalized_demand'], label='Electricity Demand', color='blue')\n",
    "plt.plot(df_population['time'], df_population['normalized_population'], label='Population', color='red')\n",
    "plt.legend(loc='upper left')\n",
    "plt.title('Population vs. Electricity Demand')\n",
    "plt.show()"
   ]
  },
  {
   "cell_type": "markdown",
   "id": "0a075bcb-2f25-4e4b-b0a4-9d527344f759",
   "metadata": {},
   "source": [
    "This is very interesting. As the population grows, we would typically expect electricity demand to rise, assuming individual consumption remains steady. Contrary to this expectation, we observe a decline in electricity demand. This suggests that the per capita electricity demand is decreasing. Possible explanations for this trend might include a relative decrease in personal income against the cost of electricity, prompting individuals to limit usage, or the adoption of alternative energy sources, like residential solar panels, reducing reliance on traditional electricity supplies."
   ]
  },
  {
   "cell_type": "markdown",
   "id": "5599cc21-33be-4356-beac-0a61738725b7",
   "metadata": {},
   "source": [
    "GDP can rougly (if not totally) represent the income of citizens. Let's check GDP trend first."
   ]
  },
  {
   "cell_type": "markdown",
   "id": "b85e034d-b614-4ccd-96c5-71f9642d5e15",
   "metadata": {},
   "source": [
    "#### GDP and Demand"
   ]
  },
  {
   "cell_type": "code",
   "execution_count": 19,
   "id": "b64dcf25-4ebd-41ab-9667-bad44cfd1548",
   "metadata": {},
   "outputs": [],
   "source": [
    "df_gdp['time'] = pd.to_datetime(df_gdp['time'], format='%b-%Y') + pd.offsets.MonthEnd(1)\n",
    "df_gdp['normalized_gdp'] = (df_gdp['gdp'] - df_gdp['gdp'].mean()) / df_gdp['gdp'].std()"
   ]
  },
  {
   "cell_type": "code",
   "execution_count": 20,
   "id": "a15c06f6-9fc2-4be8-97af-7cf55f29bf61",
   "metadata": {},
   "outputs": [
    {
     "data": {
      "image/png": "[encoded data removed]",
      "text/plain": [
       "<Figure size 1000x600 with 1 Axes>"
      ]
     },
     "metadata": {},
     "output_type": "display_data"
    }
   ],
   "source": [
    "plt.figure(figsize=(10, 6))\n",
    "plt.plot(df_total_demand_quarterly['time'], df_total_demand_quarterly['normalized_demand'], label='Electricity Demand', color='blue')\n",
    "plt.plot(df_gdp['time'], df_gdp['normalized_gdp'], label='GDP', color='red')\n",
    "plt.legend(loc='upper left')\n",
    "plt.title('GDP vs. Electricity Demand')\n",
    "plt.show()"
   ]
  },
  {
   "cell_type": "markdown",
   "id": "cf261302-934a-48e1-b04c-d224eac4257c",
   "metadata": {},
   "source": [
    "GDP kept increasing from 2010 to 2020. So could it be that the electricity price increased a lot during that period? "
   ]
  },
  {
   "cell_type": "markdown",
   "id": "4753cfb6-9b09-4192-9cea-2b5d1b198a8b",
   "metadata": {},
   "source": [
    "So let's check the price over the last decade. We got the dataset from [CEIC's website](https://www.ceicdata.com/en/australia/electricity-prices/electricity-average-peak-price-new-south-wales). "
   ]
  },
  {
   "cell_type": "markdown",
   "id": "64363e81-56b6-477f-8387-92fd99332ef6",
   "metadata": {},
   "source": [
    "### Electricity Price over the last decade"
   ]
  },
  {
   "cell_type": "code",
   "execution_count": 21,
   "id": "b09ae2b0-7ddc-4234-8fc7-1a0a52051974",
   "metadata": {},
   "outputs": [],
   "source": [
    "df_electricity_price = pd.read_csv('../data/NSW/electricity_price_nsw.csv')\n",
    "df_electricity_price.columns = df_electricity_price.columns.str.lower()"
   ]
  },
  {
   "cell_type": "code",
   "execution_count": 22,
   "id": "09177b30-b937-4971-bf26-4b68dd7beb4b",
   "metadata": {},
   "outputs": [
    {
     "data": {
      "text/html": [
       "<div>\n",
       "<style scoped>\n",
       "    .dataframe tbody tr th:only-of-type {\n",
       "        vertical-align: middle;\n",
       "    }\n",
       "\n",
       "    .dataframe tbody tr th {\n",
       "        vertical-align: top;\n",
       "    }\n",
       "\n",
       "    .dataframe thead th {\n",
       "        text-align: right;\n",
       "    }\n",
       "</style>\n",
       "<table border=\"1\" class=\"dataframe\">\n",
       "  <thead>\n",
       "    <tr style=\"text-align: right;\">\n",
       "      <th></th>\n",
       "      <th>year</th>\n",
       "      <th>region</th>\n",
       "      <th>avgrrp</th>\n",
       "    </tr>\n",
       "  </thead>\n",
       "  <tbody>\n",
       "    <tr>\n",
       "      <th>0</th>\n",
       "      <td>2010</td>\n",
       "      <td>NSW</td>\n",
       "      <td>44.19</td>\n",
       "    </tr>\n",
       "    <tr>\n",
       "      <th>1</th>\n",
       "      <td>2011</td>\n",
       "      <td>NSW</td>\n",
       "      <td>36.74</td>\n",
       "    </tr>\n",
       "    <tr>\n",
       "      <th>2</th>\n",
       "      <td>2012</td>\n",
       "      <td>NSW</td>\n",
       "      <td>29.67</td>\n",
       "    </tr>\n",
       "    <tr>\n",
       "      <th>3</th>\n",
       "      <td>2013</td>\n",
       "      <td>NSW</td>\n",
       "      <td>55.10</td>\n",
       "    </tr>\n",
       "    <tr>\n",
       "      <th>4</th>\n",
       "      <td>2014</td>\n",
       "      <td>NSW</td>\n",
       "      <td>52.26</td>\n",
       "    </tr>\n",
       "    <tr>\n",
       "      <th>5</th>\n",
       "      <td>2015</td>\n",
       "      <td>NSW</td>\n",
       "      <td>35.17</td>\n",
       "    </tr>\n",
       "    <tr>\n",
       "      <th>6</th>\n",
       "      <td>2016</td>\n",
       "      <td>NSW</td>\n",
       "      <td>51.60</td>\n",
       "    </tr>\n",
       "    <tr>\n",
       "      <th>7</th>\n",
       "      <td>2017</td>\n",
       "      <td>NSW</td>\n",
       "      <td>81.22</td>\n",
       "    </tr>\n",
       "    <tr>\n",
       "      <th>8</th>\n",
       "      <td>2018</td>\n",
       "      <td>NSW</td>\n",
       "      <td>82.27</td>\n",
       "    </tr>\n",
       "    <tr>\n",
       "      <th>9</th>\n",
       "      <td>2019</td>\n",
       "      <td>NSW</td>\n",
       "      <td>88.56</td>\n",
       "    </tr>\n",
       "    <tr>\n",
       "      <th>10</th>\n",
       "      <td>2020</td>\n",
       "      <td>NSW</td>\n",
       "      <td>71.95</td>\n",
       "    </tr>\n",
       "    <tr>\n",
       "      <th>11</th>\n",
       "      <td>2021</td>\n",
       "      <td>NSW</td>\n",
       "      <td>64.81</td>\n",
       "    </tr>\n",
       "  </tbody>\n",
       "</table>\n",
       "</div>"
      ],
      "text/plain": [
       "    year region  avgrrp\n",
       "0   2010    NSW   44.19\n",
       "1   2011    NSW   36.74\n",
       "2   2012    NSW   29.67\n",
       "3   2013    NSW   55.10\n",
       "4   2014    NSW   52.26\n",
       "5   2015    NSW   35.17\n",
       "6   2016    NSW   51.60\n",
       "7   2017    NSW   81.22\n",
       "8   2018    NSW   82.27\n",
       "9   2019    NSW   88.56\n",
       "10  2020    NSW   71.95\n",
       "11  2021    NSW   64.81"
      ]
     },
     "execution_count": 22,
     "metadata": {},
     "output_type": "execute_result"
    }
   ],
   "source": [
    "df_electricity_price"
   ]
  },
  {
   "cell_type": "code",
   "execution_count": 23,
   "id": "a5af525e-717d-486c-9690-8a03c90353b5",
   "metadata": {},
   "outputs": [
    {
     "data": {
      "image/png": "[encoded data removed]",
      "text/plain": [
       "<Figure size 1000x600 with 1 Axes>"
      ]
     },
     "metadata": {},
     "output_type": "display_data"
    }
   ],
   "source": [
    "plt.figure(figsize=(10, 6))\n",
    "plt.plot(df_electricity_price['year'], df_electricity_price['avgrrp'])\n",
    "plt.title('Year vs. Average Recommended Retail Price ')\n",
    "plt.xlabel('Year')\n",
    "plt.ylabel('Average RRP')\n",
    "plt.grid(True)\n",
    "plt.show()"
   ]
  },
  {
   "cell_type": "markdown",
   "id": "5c60f358-1436-4447-b193-36302c895e86",
   "metadata": {},
   "source": [
    "We do see the price increased over the last decade. So in our modeling, it is better to include the factor of pricing. "
   ]
  },
  {
   "cell_type": "markdown",
   "id": "76b5a14f-cb06-490b-a189-2584c163ba3f",
   "metadata": {},
   "source": [
    "The increased adoption of residential solar panels might be another factor to consider, as this can lead to a reduction in dependency on conventional electricity grids. As more households install solar panels, the aggregate demand on traditional energy providers is likely to diminish. "
   ]
  },
  {
   "cell_type": "markdown",
   "id": "303c037c-30ae-4997-8eb6-781d1b8c767b",
   "metadata": {},
   "source": [
    "### Home Solar Installation over the last decade"
   ]
  },
  {
   "cell_type": "markdown",
   "id": "124baee7-59d1-48c0-b2a4-9cccabc0289f",
   "metadata": {},
   "source": [
    "We got Small-scale installation postcode data from [Clean Energy Regulator, Australian Government](https://cleanenergyregulator.gov.au/markets/reports-and-data/small-scale-installation-postcode-data#installation-numbers-for-small-scale-systems-by-state/territory). Let's see how many small-scall solar installation was done in the past a decade."
   ]
  },
  {
   "cell_type": "code",
   "execution_count": 24,
   "id": "fcf7fa4b-dc5e-49c0-a2fc-ab6ec5f85f09",
   "metadata": {},
   "outputs": [],
   "source": [
    "df_solar_install = pd.read_csv('../data/NSW/home_solar_nsw.csv')\n",
    "df_solar_install.columns = df_solar_install.columns.str.lower()"
   ]
  },
  {
   "cell_type": "code",
   "execution_count": 25,
   "id": "b04a9821-e4a0-407a-99f0-3f9f445c6694",
   "metadata": {},
   "outputs": [
    {
     "data": {
      "text/html": [
       "<div>\n",
       "<style scoped>\n",
       "    .dataframe tbody tr th:only-of-type {\n",
       "        vertical-align: middle;\n",
       "    }\n",
       "\n",
       "    .dataframe tbody tr th {\n",
       "        vertical-align: top;\n",
       "    }\n",
       "\n",
       "    .dataframe thead th {\n",
       "        text-align: right;\n",
       "    }\n",
       "</style>\n",
       "<table border=\"1\" class=\"dataframe\">\n",
       "  <thead>\n",
       "    <tr style=\"text-align: right;\">\n",
       "      <th></th>\n",
       "      <th>year</th>\n",
       "      <th>nsw</th>\n",
       "      <th>solar_install</th>\n",
       "    </tr>\n",
       "  </thead>\n",
       "  <tbody>\n",
       "    <tr>\n",
       "      <th>0</th>\n",
       "      <td>2009</td>\n",
       "      <td>14,008</td>\n",
       "      <td>14,008</td>\n",
       "    </tr>\n",
       "    <tr>\n",
       "      <th>1</th>\n",
       "      <td>2010</td>\n",
       "      <td>69,988</td>\n",
       "      <td>83,996</td>\n",
       "    </tr>\n",
       "    <tr>\n",
       "      <th>2</th>\n",
       "      <td>2011</td>\n",
       "      <td>80,272</td>\n",
       "      <td>164,268</td>\n",
       "    </tr>\n",
       "    <tr>\n",
       "      <th>3</th>\n",
       "      <td>2012</td>\n",
       "      <td>53,961</td>\n",
       "      <td>218,229</td>\n",
       "    </tr>\n",
       "    <tr>\n",
       "      <th>4</th>\n",
       "      <td>2013</td>\n",
       "      <td>33,998</td>\n",
       "      <td>252,227</td>\n",
       "    </tr>\n",
       "    <tr>\n",
       "      <th>5</th>\n",
       "      <td>2014</td>\n",
       "      <td>37,210</td>\n",
       "      <td>289,437</td>\n",
       "    </tr>\n",
       "    <tr>\n",
       "      <th>6</th>\n",
       "      <td>2015</td>\n",
       "      <td>33,478</td>\n",
       "      <td>322,915</td>\n",
       "    </tr>\n",
       "    <tr>\n",
       "      <th>7</th>\n",
       "      <td>2016</td>\n",
       "      <td>29,498</td>\n",
       "      <td>352,413</td>\n",
       "    </tr>\n",
       "    <tr>\n",
       "      <th>8</th>\n",
       "      <td>2017</td>\n",
       "      <td>43,253</td>\n",
       "      <td>395,666</td>\n",
       "    </tr>\n",
       "    <tr>\n",
       "      <th>9</th>\n",
       "      <td>2018</td>\n",
       "      <td>59,329</td>\n",
       "      <td>454,995</td>\n",
       "    </tr>\n",
       "    <tr>\n",
       "      <th>10</th>\n",
       "      <td>2019</td>\n",
       "      <td>77,630</td>\n",
       "      <td>532,625</td>\n",
       "    </tr>\n",
       "    <tr>\n",
       "      <th>11</th>\n",
       "      <td>2020</td>\n",
       "      <td>110,788</td>\n",
       "      <td>643,413</td>\n",
       "    </tr>\n",
       "  </tbody>\n",
       "</table>\n",
       "</div>"
      ],
      "text/plain": [
       "    year      nsw solar_install\n",
       "0   2009   14,008        14,008\n",
       "1   2010   69,988        83,996\n",
       "2   2011   80,272       164,268\n",
       "3   2012   53,961       218,229\n",
       "4   2013   33,998       252,227\n",
       "5   2014   37,210       289,437\n",
       "6   2015   33,478       322,915\n",
       "7   2016   29,498       352,413\n",
       "8   2017   43,253       395,666\n",
       "9   2018   59,329       454,995\n",
       "10  2019   77,630       532,625\n",
       "11  2020  110,788       643,413"
      ]
     },
     "execution_count": 25,
     "metadata": {},
     "output_type": "execute_result"
    }
   ],
   "source": [
    "df_solar_install"
   ]
  },
  {
   "cell_type": "code",
   "execution_count": 26,
   "id": "42cfa45f-7c59-403b-a5a1-f2ea833ebbf8",
   "metadata": {},
   "outputs": [],
   "source": [
    "df_solar_install['solar_install'] = df_solar_install['solar_install'].str.replace(',', '')\n",
    "df_solar_install['solar_install'] = df_solar_install['solar_install'].astype(int)"
   ]
  },
  {
   "cell_type": "code",
   "execution_count": 27,
   "id": "f55e7598-a171-4b5d-9197-30e0316f8749",
   "metadata": {},
   "outputs": [
    {
     "data": {
      "image/png": "[encoded data removed]",
      "text/plain": [
       "<Figure size 1000x600 with 1 Axes>"
      ]
     },
     "metadata": {},
     "output_type": "display_data"
    }
   ],
   "source": [
    "plt.figure(figsize=(10, 6))\n",
    "plt.plot(df_solar_install['year'], df_solar_install['solar_install'])\n",
    "plt.title('Year vs. Total Installation')\n",
    "plt.xlabel('Year')\n",
    "plt.ylabel('Installation')\n",
    "plt.grid(True)\n",
    "plt.show()"
   ]
  },
  {
   "cell_type": "markdown",
   "id": "9933ce48-052a-4758-9ad9-f7cc006a6347",
   "metadata": {},
   "source": [
    "We can see the installation increased over the last decase. It is reasonable to include the total installation in NSW into our model too. "
   ]
  },
  {
   "cell_type": "markdown",
   "id": "7c626a58-d15f-455a-aec5-9afcb6c6fa1a",
   "metadata": {},
   "source": [
    "## Data Preperation For Modeling"
   ]
  },
  {
   "cell_type": "markdown",
   "id": "e0572a34-ad28-417b-bbc5-e6652be1d80b",
   "metadata": {},
   "source": [
    "### Which kind of prediction we want to do"
   ]
  },
  {
   "cell_type": "markdown",
   "id": "6b2c79f1-1362-4743-8ee1-a99aea666d7e",
   "metadata": {},
   "source": [
    "We can predict the average demand for a quarter. As discussed above, such a prediction should consider factors including time, quarterly average temperature, population, GDP, price, and solar installations. "
   ]
  },
  {
   "cell_type": "markdown",
   "id": "51e0663a-3d2f-42cb-867f-21c337767156",
   "metadata": {},
   "source": [
    "We can also predict short-term demand every 30 minutes. For such predictions, long-term factors such as population, GDP, price, or solar installations will not play a significant role. Therefore, we will exclude them from our modeling."
   ]
  },
  {
   "cell_type": "markdown",
   "id": "ce650511-14b9-4197-afa3-b589e03af924",
   "metadata": {},
   "source": [
    "### Long Term Data For Modeling"
   ]
  },
  {
   "cell_type": "markdown",
   "id": "804a8a32-69a7-4e55-addf-9f7bba55c7a4",
   "metadata": {},
   "source": [
    "When predicting quartly demand, we should use population, average temperate, and GDP. In reality we can not get the data of these features before the end of the quarter we want to predict. So to compose the data for training and testing, we need to modify our dataset a bit. "
   ]
  },
  {
   "cell_type": "markdown",
   "id": "a2ce329c-9991-4e06-b56f-ba504bdab7af",
   "metadata": {},
   "source": [
    "#### Population"
   ]
  },
  {
   "cell_type": "code",
   "execution_count": 28,
   "id": "8c781b5c-175d-4148-abe3-d944f5bb76ab",
   "metadata": {},
   "outputs": [
    {
     "data": {
      "text/html": [
       "<div>\n",
       "<style scoped>\n",
       "    .dataframe tbody tr th:only-of-type {\n",
       "        vertical-align: middle;\n",
       "    }\n",
       "\n",
       "    .dataframe tbody tr th {\n",
       "        vertical-align: top;\n",
       "    }\n",
       "\n",
       "    .dataframe thead th {\n",
       "        text-align: right;\n",
       "    }\n",
       "</style>\n",
       "<table border=\"1\" class=\"dataframe\">\n",
       "  <thead>\n",
       "    <tr style=\"text-align: right;\">\n",
       "      <th></th>\n",
       "      <th>time</th>\n",
       "      <th>population</th>\n",
       "      <th>normalized_population</th>\n",
       "    </tr>\n",
       "  </thead>\n",
       "  <tbody>\n",
       "    <tr>\n",
       "      <th>0</th>\n",
       "      <td>2009-12-31</td>\n",
       "      <td>7101504</td>\n",
       "      <td>-1.582523</td>\n",
       "    </tr>\n",
       "    <tr>\n",
       "      <th>1</th>\n",
       "      <td>2010-03-31</td>\n",
       "      <td>7128356</td>\n",
       "      <td>-1.501659</td>\n",
       "    </tr>\n",
       "    <tr>\n",
       "      <th>2</th>\n",
       "      <td>2010-06-30</td>\n",
       "      <td>7144292</td>\n",
       "      <td>-1.453668</td>\n",
       "    </tr>\n",
       "    <tr>\n",
       "      <th>3</th>\n",
       "      <td>2010-09-30</td>\n",
       "      <td>7162726</td>\n",
       "      <td>-1.398155</td>\n",
       "    </tr>\n",
       "    <tr>\n",
       "      <th>4</th>\n",
       "      <td>2010-12-31</td>\n",
       "      <td>7179891</td>\n",
       "      <td>-1.346464</td>\n",
       "    </tr>\n",
       "  </tbody>\n",
       "</table>\n",
       "</div>"
      ],
      "text/plain": [
       "        time  population  normalized_population\n",
       "0 2009-12-31     7101504              -1.582523\n",
       "1 2010-03-31     7128356              -1.501659\n",
       "2 2010-06-30     7144292              -1.453668\n",
       "3 2010-09-30     7162726              -1.398155\n",
       "4 2010-12-31     7179891              -1.346464"
      ]
     },
     "execution_count": 28,
     "metadata": {},
     "output_type": "execute_result"
    }
   ],
   "source": [
    "df_population.head()"
   ]
  },
  {
   "cell_type": "code",
   "execution_count": 29,
   "id": "04c756a9-4c56-4e2d-a793-2078cdb6f162",
   "metadata": {},
   "outputs": [],
   "source": [
    "df_population_quarterly = df_population.copy(deep=True)"
   ]
  },
  {
   "cell_type": "code",
   "execution_count": 30,
   "id": "82cc37b4-be20-43fe-b306-a43c9ecc6543",
   "metadata": {},
   "outputs": [],
   "source": [
    "# offset the time by 3 months\n",
    "df_population_quarterly['time'] = df_population['time'] + pd.DateOffset(months=3)\n",
    "df_population_quarterly['time'] = df_population_quarterly['time'] + pd.offsets.MonthEnd(0)"
   ]
  },
  {
   "cell_type": "markdown",
   "id": "4011c922-479f-43d8-b9a3-bf8ae1d9ffc0",
   "metadata": {},
   "source": [
    "#### GDP"
   ]
  },
  {
   "cell_type": "code",
   "execution_count": 31,
   "id": "c21b6cf9-1cc2-41b1-ab4d-157509b970e3",
   "metadata": {},
   "outputs": [
    {
     "data": {
      "text/html": [
       "<div>\n",
       "<style scoped>\n",
       "    .dataframe tbody tr th:only-of-type {\n",
       "        vertical-align: middle;\n",
       "    }\n",
       "\n",
       "    .dataframe tbody tr th {\n",
       "        vertical-align: top;\n",
       "    }\n",
       "\n",
       "    .dataframe thead th {\n",
       "        text-align: right;\n",
       "    }\n",
       "</style>\n",
       "<table border=\"1\" class=\"dataframe\">\n",
       "  <thead>\n",
       "    <tr style=\"text-align: right;\">\n",
       "      <th></th>\n",
       "      <th>time</th>\n",
       "      <th>gdp</th>\n",
       "      <th>normalized_gdp</th>\n",
       "    </tr>\n",
       "  </thead>\n",
       "  <tbody>\n",
       "    <tr>\n",
       "      <th>0</th>\n",
       "      <td>2009-12-31</td>\n",
       "      <td>334934</td>\n",
       "      <td>-1.557029</td>\n",
       "    </tr>\n",
       "    <tr>\n",
       "      <th>1</th>\n",
       "      <td>2010-03-31</td>\n",
       "      <td>314838</td>\n",
       "      <td>-1.925885</td>\n",
       "    </tr>\n",
       "    <tr>\n",
       "      <th>2</th>\n",
       "      <td>2010-06-30</td>\n",
       "      <td>340575</td>\n",
       "      <td>-1.453491</td>\n",
       "    </tr>\n",
       "    <tr>\n",
       "      <th>3</th>\n",
       "      <td>2010-09-30</td>\n",
       "      <td>345512</td>\n",
       "      <td>-1.362874</td>\n",
       "    </tr>\n",
       "    <tr>\n",
       "      <th>4</th>\n",
       "      <td>2010-12-31</td>\n",
       "      <td>365403</td>\n",
       "      <td>-0.997781</td>\n",
       "    </tr>\n",
       "  </tbody>\n",
       "</table>\n",
       "</div>"
      ],
      "text/plain": [
       "        time     gdp  normalized_gdp\n",
       "0 2009-12-31  334934       -1.557029\n",
       "1 2010-03-31  314838       -1.925885\n",
       "2 2010-06-30  340575       -1.453491\n",
       "3 2010-09-30  345512       -1.362874\n",
       "4 2010-12-31  365403       -0.997781"
      ]
     },
     "execution_count": 31,
     "metadata": {},
     "output_type": "execute_result"
    }
   ],
   "source": [
    "df_gdp.head()"
   ]
  },
  {
   "cell_type": "code",
   "execution_count": 32,
   "id": "6a93ca9f-2942-42e5-a075-c6b6b6efe858",
   "metadata": {},
   "outputs": [],
   "source": [
    "df_gdp_quarterly = df_gdp.copy(deep=True)"
   ]
  },
  {
   "cell_type": "code",
   "execution_count": 33,
   "id": "2aa7e92e-0e15-44ae-8da9-a9ee60c725af",
   "metadata": {},
   "outputs": [],
   "source": [
    "df_gdp_quarterly['time'] = df_gdp['time'] + pd.DateOffset(months=3)\n",
    "df_gdp_quarterly['time'] = df_gdp_quarterly['time'] + pd.offsets.MonthEnd(0)"
   ]
  },
  {
   "cell_type": "markdown",
   "id": "7a9390ea-5d54-4b82-9490-518bf9595dbc",
   "metadata": {},
   "source": [
    "#### Solar Installation"
   ]
  },
  {
   "cell_type": "code",
   "execution_count": 34,
   "id": "2f680d65-fdd6-4b03-bf9c-f63357b41e1d",
   "metadata": {},
   "outputs": [
    {
     "data": {
      "text/html": [
       "<div>\n",
       "<style scoped>\n",
       "    .dataframe tbody tr th:only-of-type {\n",
       "        vertical-align: middle;\n",
       "    }\n",
       "\n",
       "    .dataframe tbody tr th {\n",
       "        vertical-align: top;\n",
       "    }\n",
       "\n",
       "    .dataframe thead th {\n",
       "        text-align: right;\n",
       "    }\n",
       "</style>\n",
       "<table border=\"1\" class=\"dataframe\">\n",
       "  <thead>\n",
       "    <tr style=\"text-align: right;\">\n",
       "      <th></th>\n",
       "      <th>year</th>\n",
       "      <th>nsw</th>\n",
       "      <th>solar_install</th>\n",
       "    </tr>\n",
       "  </thead>\n",
       "  <tbody>\n",
       "    <tr>\n",
       "      <th>0</th>\n",
       "      <td>2009</td>\n",
       "      <td>14,008</td>\n",
       "      <td>14008</td>\n",
       "    </tr>\n",
       "    <tr>\n",
       "      <th>1</th>\n",
       "      <td>2010</td>\n",
       "      <td>69,988</td>\n",
       "      <td>83996</td>\n",
       "    </tr>\n",
       "    <tr>\n",
       "      <th>2</th>\n",
       "      <td>2011</td>\n",
       "      <td>80,272</td>\n",
       "      <td>164268</td>\n",
       "    </tr>\n",
       "    <tr>\n",
       "      <th>3</th>\n",
       "      <td>2012</td>\n",
       "      <td>53,961</td>\n",
       "      <td>218229</td>\n",
       "    </tr>\n",
       "    <tr>\n",
       "      <th>4</th>\n",
       "      <td>2013</td>\n",
       "      <td>33,998</td>\n",
       "      <td>252227</td>\n",
       "    </tr>\n",
       "  </tbody>\n",
       "</table>\n",
       "</div>"
      ],
      "text/plain": [
       "   year     nsw  solar_install\n",
       "0  2009  14,008          14008\n",
       "1  2010  69,988          83996\n",
       "2  2011  80,272         164268\n",
       "3  2012  53,961         218229\n",
       "4  2013  33,998         252227"
      ]
     },
     "execution_count": 34,
     "metadata": {},
     "output_type": "execute_result"
    }
   ],
   "source": [
    "df_solar_install.head()"
   ]
  },
  {
   "cell_type": "markdown",
   "id": "caa03de1-364c-4d7c-9c9c-dc73d53983c9",
   "metadata": {},
   "source": [
    "We only have annual data. We can convert yearly solar installation data to quarterly data using linear interpolation within each year."
   ]
  },
  {
   "cell_type": "code",
   "execution_count": 35,
   "id": "e7c94fff-f662-42e3-86ec-ad0a65c0313e",
   "metadata": {},
   "outputs": [],
   "source": [
    "quarterly_solar_install = {'year_quarter': [], 'solar_install': []}\n",
    "\n",
    "for i in range(len(df_solar_install)):\n",
    "    if i == 0:\n",
    "        growth = (df_solar_install.loc[i + 1, 'solar_install'] - df_solar_install.loc[i, 'solar_install']) / 4\n",
    "        for q in range(1, 5):\n",
    "            quarterly_solar_install['year_quarter'].append(f\"{df_solar_install.loc[i, 'year']}-Q{q}\")\n",
    "            quarterly_solar_install['solar_install'].append(int(df_solar_install.loc[i, 'solar_install'] + growth * (q - 1)))\n",
    "    else:\n",
    "        growth = (df_solar_install.loc[i, 'solar_install'] - df_solar_install.loc[i - 1, 'solar_install']) / 4\n",
    "        for q in range(1, 5):\n",
    "            quarterly_solar_install['year_quarter'].append(f\"{df_solar_install.loc[i, 'year']}-Q{q}\")\n",
    "            quarterly_solar_install['solar_install'].append(int(df_solar_install.loc[i, 'solar_install'] + growth * (q - 1)))\n",
    "\n",
    "df_quarterly_solar_install = pd.DataFrame(quarterly_solar_install)"
   ]
  },
  {
   "cell_type": "code",
   "execution_count": 36,
   "id": "de8ab150-8b4d-4407-bfdd-922bd4b919dc",
   "metadata": {},
   "outputs": [
    {
     "data": {
      "text/html": [
       "<div>\n",
       "<style scoped>\n",
       "    .dataframe tbody tr th:only-of-type {\n",
       "        vertical-align: middle;\n",
       "    }\n",
       "\n",
       "    .dataframe tbody tr th {\n",
       "        vertical-align: top;\n",
       "    }\n",
       "\n",
       "    .dataframe thead th {\n",
       "        text-align: right;\n",
       "    }\n",
       "</style>\n",
       "<table border=\"1\" class=\"dataframe\">\n",
       "  <thead>\n",
       "    <tr style=\"text-align: right;\">\n",
       "      <th></th>\n",
       "      <th>year_quarter</th>\n",
       "      <th>solar_install</th>\n",
       "    </tr>\n",
       "  </thead>\n",
       "  <tbody>\n",
       "    <tr>\n",
       "      <th>0</th>\n",
       "      <td>2009-Q1</td>\n",
       "      <td>14008</td>\n",
       "    </tr>\n",
       "    <tr>\n",
       "      <th>1</th>\n",
       "      <td>2009-Q2</td>\n",
       "      <td>31505</td>\n",
       "    </tr>\n",
       "    <tr>\n",
       "      <th>2</th>\n",
       "      <td>2009-Q3</td>\n",
       "      <td>49002</td>\n",
       "    </tr>\n",
       "    <tr>\n",
       "      <th>3</th>\n",
       "      <td>2009-Q4</td>\n",
       "      <td>66499</td>\n",
       "    </tr>\n",
       "    <tr>\n",
       "      <th>4</th>\n",
       "      <td>2010-Q1</td>\n",
       "      <td>83996</td>\n",
       "    </tr>\n",
       "  </tbody>\n",
       "</table>\n",
       "</div>"
      ],
      "text/plain": [
       "  year_quarter  solar_install\n",
       "0      2009-Q1          14008\n",
       "1      2009-Q2          31505\n",
       "2      2009-Q3          49002\n",
       "3      2009-Q4          66499\n",
       "4      2010-Q1          83996"
      ]
     },
     "execution_count": 36,
     "metadata": {},
     "output_type": "execute_result"
    }
   ],
   "source": [
    "df_quarterly_solar_install.head()"
   ]
  },
  {
   "cell_type": "code",
   "execution_count": 37,
   "id": "e9a69f9f-5671-43c3-8919-8fd8d5cb532b",
   "metadata": {},
   "outputs": [],
   "source": [
    "def quarter_to_date(quarter_str):\n",
    "    year, q = quarter_str.split('-')\n",
    "    if q == 'Q1':\n",
    "        return f'{year}-03-31'\n",
    "    elif q == 'Q2':\n",
    "        return f'{year}-06-30'\n",
    "    elif q == 'Q3':\n",
    "        return f'{year}-09-30'\n",
    "    elif q == 'Q4':\n",
    "        return f'{year}-12-31'"
   ]
  },
  {
   "cell_type": "code",
   "execution_count": 38,
   "id": "85dc9905-9c88-4647-b8eb-1bad12f8d348",
   "metadata": {},
   "outputs": [],
   "source": [
    "df_quarterly_solar_install['time'] = df_quarterly_solar_install['year_quarter'].apply(quarter_to_date)\n",
    "\n",
    "# Convert the 'end_of_quarter' column to datetime\n",
    "df_quarterly_solar_install['time'] = pd.to_datetime(df_quarterly_solar_install['time'])\n",
    "# Offset the time by 1 year\n",
    "df_quarterly_solar_install['time'] = df_quarterly_solar_install['time'] + pd.DateOffset(months=12)"
   ]
  },
  {
   "cell_type": "code",
   "execution_count": 39,
   "id": "4acba6b3-97f8-41da-90ba-7da4554e5a98",
   "metadata": {},
   "outputs": [
    {
     "data": {
      "text/html": [
       "<div>\n",
       "<style scoped>\n",
       "    .dataframe tbody tr th:only-of-type {\n",
       "        vertical-align: middle;\n",
       "    }\n",
       "\n",
       "    .dataframe tbody tr th {\n",
       "        vertical-align: top;\n",
       "    }\n",
       "\n",
       "    .dataframe thead th {\n",
       "        text-align: right;\n",
       "    }\n",
       "</style>\n",
       "<table border=\"1\" class=\"dataframe\">\n",
       "  <thead>\n",
       "    <tr style=\"text-align: right;\">\n",
       "      <th></th>\n",
       "      <th>year_quarter</th>\n",
       "      <th>solar_install</th>\n",
       "      <th>time</th>\n",
       "    </tr>\n",
       "  </thead>\n",
       "  <tbody>\n",
       "    <tr>\n",
       "      <th>0</th>\n",
       "      <td>2009-Q1</td>\n",
       "      <td>14008</td>\n",
       "      <td>2010-03-31</td>\n",
       "    </tr>\n",
       "    <tr>\n",
       "      <th>1</th>\n",
       "      <td>2009-Q2</td>\n",
       "      <td>31505</td>\n",
       "      <td>2010-06-30</td>\n",
       "    </tr>\n",
       "    <tr>\n",
       "      <th>2</th>\n",
       "      <td>2009-Q3</td>\n",
       "      <td>49002</td>\n",
       "      <td>2010-09-30</td>\n",
       "    </tr>\n",
       "    <tr>\n",
       "      <th>3</th>\n",
       "      <td>2009-Q4</td>\n",
       "      <td>66499</td>\n",
       "      <td>2010-12-31</td>\n",
       "    </tr>\n",
       "    <tr>\n",
       "      <th>4</th>\n",
       "      <td>2010-Q1</td>\n",
       "      <td>83996</td>\n",
       "      <td>2011-03-31</td>\n",
       "    </tr>\n",
       "  </tbody>\n",
       "</table>\n",
       "</div>"
      ],
      "text/plain": [
       "  year_quarter  solar_install       time\n",
       "0      2009-Q1          14008 2010-03-31\n",
       "1      2009-Q2          31505 2010-06-30\n",
       "2      2009-Q3          49002 2010-09-30\n",
       "3      2009-Q4          66499 2010-12-31\n",
       "4      2010-Q1          83996 2011-03-31"
      ]
     },
     "execution_count": 39,
     "metadata": {},
     "output_type": "execute_result"
    }
   ],
   "source": [
    "df_quarterly_solar_install.head()"
   ]
  },
  {
   "cell_type": "markdown",
   "id": "070fc3fa-8e3c-4f66-ad00-bf113281da63",
   "metadata": {},
   "source": [
    "#### Price"
   ]
  },
  {
   "cell_type": "code",
   "execution_count": 40,
   "id": "42fe4a65-fbcd-4e5b-9cd6-547d41effbef",
   "metadata": {},
   "outputs": [
    {
     "data": {
      "text/html": [
       "<div>\n",
       "<style scoped>\n",
       "    .dataframe tbody tr th:only-of-type {\n",
       "        vertical-align: middle;\n",
       "    }\n",
       "\n",
       "    .dataframe tbody tr th {\n",
       "        vertical-align: top;\n",
       "    }\n",
       "\n",
       "    .dataframe thead th {\n",
       "        text-align: right;\n",
       "    }\n",
       "</style>\n",
       "<table border=\"1\" class=\"dataframe\">\n",
       "  <thead>\n",
       "    <tr style=\"text-align: right;\">\n",
       "      <th></th>\n",
       "      <th>year</th>\n",
       "      <th>region</th>\n",
       "      <th>avgrrp</th>\n",
       "    </tr>\n",
       "  </thead>\n",
       "  <tbody>\n",
       "    <tr>\n",
       "      <th>0</th>\n",
       "      <td>2010</td>\n",
       "      <td>NSW</td>\n",
       "      <td>44.19</td>\n",
       "    </tr>\n",
       "    <tr>\n",
       "      <th>1</th>\n",
       "      <td>2011</td>\n",
       "      <td>NSW</td>\n",
       "      <td>36.74</td>\n",
       "    </tr>\n",
       "    <tr>\n",
       "      <th>2</th>\n",
       "      <td>2012</td>\n",
       "      <td>NSW</td>\n",
       "      <td>29.67</td>\n",
       "    </tr>\n",
       "    <tr>\n",
       "      <th>3</th>\n",
       "      <td>2013</td>\n",
       "      <td>NSW</td>\n",
       "      <td>55.10</td>\n",
       "    </tr>\n",
       "    <tr>\n",
       "      <th>4</th>\n",
       "      <td>2014</td>\n",
       "      <td>NSW</td>\n",
       "      <td>52.26</td>\n",
       "    </tr>\n",
       "  </tbody>\n",
       "</table>\n",
       "</div>"
      ],
      "text/plain": [
       "   year region  avgrrp\n",
       "0  2010    NSW   44.19\n",
       "1  2011    NSW   36.74\n",
       "2  2012    NSW   29.67\n",
       "3  2013    NSW   55.10\n",
       "4  2014    NSW   52.26"
      ]
     },
     "execution_count": 40,
     "metadata": {},
     "output_type": "execute_result"
    }
   ],
   "source": [
    "df_electricity_price.head()"
   ]
  },
  {
   "cell_type": "code",
   "execution_count": 41,
   "id": "baf75d0c-38d9-46e8-b5f1-6d36e4689903",
   "metadata": {},
   "outputs": [],
   "source": [
    "# Same as what we did to solar install, convert price to quartely data\n",
    "quarterly_price = {'year_quarter': [], 'avgrrp': []}\n",
    "\n",
    "for i in range(len(df_electricity_price)):\n",
    "    if i == 0:\n",
    "        growth = (df_electricity_price.loc[i + 1, 'avgrrp'] - df_electricity_price.loc[i, 'avgrrp']) / 4\n",
    "        for q in range(1, 5):\n",
    "            quarterly_price['year_quarter'].append(f\"{df_electricity_price.loc[i, 'year']}-Q{q}\")\n",
    "            quarterly_price['avgrrp'].append(df_electricity_price.loc[i, 'avgrrp'] + growth * (q - 1))\n",
    "    else:\n",
    "        growth = (df_electricity_price.loc[i, 'avgrrp'] - df_electricity_price.loc[i - 1, 'avgrrp']) / 4\n",
    "        for q in range(1, 5):\n",
    "            quarterly_price['year_quarter'].append(f\"{df_electricity_price.loc[i, 'year']}-Q{q}\")\n",
    "            quarterly_price['avgrrp'].append(df_electricity_price.loc[i, 'avgrrp'] + growth * (q - 1))\n",
    "\n",
    "df_quarterly_electricity_price = pd.DataFrame(quarterly_price)"
   ]
  },
  {
   "cell_type": "code",
   "execution_count": 42,
   "id": "414aaf89-d67b-408a-936d-7cd7c9cab31e",
   "metadata": {},
   "outputs": [],
   "source": [
    "df_quarterly_electricity_price['time'] = df_quarterly_electricity_price['year_quarter'].apply(quarter_to_date)\n",
    "\n",
    "# Convert the 'end_of_quarter' column to datetime\n",
    "df_quarterly_electricity_price['time'] = pd.to_datetime(df_quarterly_electricity_price['time'])\n",
    "# Offset the time by 1 year\n",
    "df_quarterly_electricity_price['time'] = df_quarterly_electricity_price['time'] + pd.DateOffset(months=12)"
   ]
  },
  {
   "cell_type": "markdown",
   "id": "f35fe485-d4ea-40b3-9196-ffac5c6e53ed",
   "metadata": {},
   "source": [
    "#### Temperature"
   ]
  },
  {
   "cell_type": "code",
   "execution_count": 43,
   "id": "1547b067-89e6-46bb-aa3a-8efedf52fff1",
   "metadata": {},
   "outputs": [],
   "source": [
    "df_temp['time'] = pd.to_datetime(df_temp['datetime'], format='%d/%m/%Y %H:%M') \n",
    "df_temp.set_index('time', inplace=True) \n",
    "temp_quarterly = df_temp['temperature'].resample('Q').mean()\n",
    "df_temp_quarterly = temp_quarterly.reset_index()\n",
    "df_temp_quarterly['time'] = df_temp_quarterly['time'] + pd.DateOffset(months=3)\n",
    "df_temp_quarterly['time'] = df_temp_quarterly['time'] + pd.offsets.MonthEnd(0)"
   ]
  },
  {
   "cell_type": "markdown",
   "id": "de80ba6d-06a9-4dcd-8808-b5922ed986f6",
   "metadata": {},
   "source": [
    "#### Create the long term quarterly dataset for training and testing"
   ]
  },
  {
   "cell_type": "code",
   "execution_count": 44,
   "id": "04b8ded2-dab3-4f1e-83e4-1ad7d97b9b4c",
   "metadata": {},
   "outputs": [],
   "source": [
    "df_temp_install = pd.merge(df_temp_quarterly, df_quarterly_solar_install, on='time', how='inner')\n",
    "df_temp_install_price = pd.merge(df_temp_install, df_quarterly_electricity_price, on='time', how='inner')\n",
    "df_temp_install_price_gdp = pd.merge(df_temp_install_price, df_gdp_quarterly, on='time', how='inner')\n",
    "df_temp_install_price_gdp_population = pd.merge(df_temp_install_price_gdp, df_population_quarterly, on='time', how='inner')\n",
    "df_temp_install_price_gdp_population_demand = pd.merge(df_temp_install_price_gdp_population, df_total_demand_quarterly, on='time', how='inner')"
   ]
  },
  {
   "cell_type": "markdown",
   "id": "d8dc895c-1141-4c80-a4d3-2151fb26cbf1",
   "metadata": {},
   "source": [
    "**NOTE:** Depending on which model to use, 'time' may not be used in some models."
   ]
  },
  {
   "cell_type": "code",
   "execution_count": 45,
   "id": "8dfe733f-507a-4e5b-925c-38cad7ecb1bb",
   "metadata": {},
   "outputs": [],
   "source": [
    "df_long_term = df_temp_install_price_gdp_population_demand[['time', 'temperature', 'solar_install', 'avgrrp', 'gdp', 'population', 'totaldemand']]"
   ]
  },
  {
   "cell_type": "code",
   "execution_count": 46,
   "id": "e3ec47e0-0505-4a06-9319-5f31b1dde1dd",
   "metadata": {},
   "outputs": [],
   "source": [
    "y_long_term = df_long_term['totaldemand']\n",
    "X_long_term = df_long_term.drop('totaldemand', axis = 1)"
   ]
  },
  {
   "cell_type": "code",
   "execution_count": 47,
   "id": "1eeba6fd-af37-486b-b3a8-fb31d12af97d",
   "metadata": {},
   "outputs": [],
   "source": [
    "X_long_term_train, X_long_term_test, y_long_term_train, y_long_term_test = train_test_split(X_long_term, y_long_term, test_size=0.2, random_state=42)"
   ]
  },
  {
   "cell_type": "markdown",
   "id": "cec49ef4-fe15-4cf5-94fa-aa1e70774464",
   "metadata": {},
   "source": [
    "### Short Term Data For Modeling"
   ]
  },
  {
   "cell_type": "code",
   "execution_count": 48,
   "id": "5b7a255d-0677-497e-a54b-2265477eb0da",
   "metadata": {},
   "outputs": [],
   "source": [
    "df_temp = df_temp.reset_index()"
   ]
  },
  {
   "cell_type": "code",
   "execution_count": 49,
   "id": "756fa54e-6dae-4f25-94a1-81bfbd58e435",
   "metadata": {},
   "outputs": [],
   "source": [
    "df_demand = df_demand.reset_index()"
   ]
  },
  {
   "cell_type": "code",
   "execution_count": 50,
   "id": "4047e1f7-a778-47c1-b8ed-a6d23bbb600b",
   "metadata": {},
   "outputs": [],
   "source": [
    "df_temp_demand_short_term = pd.merge(df_temp, df_demand, on='time', how='inner')"
   ]
  },
  {
   "cell_type": "markdown",
   "id": "edd71ed0-cc99-4786-ad01-ed2a9bf6a614",
   "metadata": {},
   "source": [
    "**NOTE:** Depending on which model to use, 'time' may not be used in some models. "
   ]
  },
  {
   "cell_type": "code",
   "execution_count": 51,
   "id": "251dd3d0-90dd-4f6c-a614-8d1e9e583f4c",
   "metadata": {},
   "outputs": [],
   "source": [
    "df_short_term = df_temp_demand_short_term[['time', 'temperature', 'totaldemand']]"
   ]
  },
  {
   "cell_type": "code",
   "execution_count": 52,
   "id": "1d03f3b5-e491-4fe6-aa6d-844e19e77fac",
   "metadata": {},
   "outputs": [],
   "source": [
    "y_short_term = df_short_term['totaldemand']\n",
    "X_short_term = df_short_term.drop('totaldemand', axis = 1)"
   ]
  },
  {
   "cell_type": "code",
   "execution_count": 54,
   "id": "2e934a9c-cc85-4b02-a1f3-ef2b5e08edc2",
   "metadata": {},
   "outputs": [],
   "source": [
    "X_short_term_train, X_short_term_test, y_short_term_train, y_short_term_test = train_test_split(X_short_term, y_short_term, test_size=0.2, random_state=42)"
   ]
  },
  {
   "cell_type": "code",
   "execution_count": null,
   "id": "d1c03def-a0a1-4f5b-bbd3-cffbe36125ef",
   "metadata": {},
   "outputs": [],
   "source": []
  }
 ],
 "metadata": {
  "kernelspec": {
   "display_name": "Python 3 (ipykernel)",
   "language": "python",
   "name": "python3"
  },
  "language_info": {
   "codemirror_mode": {
    "name": "ipython",
    "version": 3
   },
   "file_extension": ".py",
   "mimetype": "text/x-python",
   "name": "python",
   "nbconvert_exporter": "python",
   "pygments_lexer": "ipython3",
   "version": "3.10.9"
  }
 },
 "nbformat": 4,
 "nbformat_minor": 5
}
