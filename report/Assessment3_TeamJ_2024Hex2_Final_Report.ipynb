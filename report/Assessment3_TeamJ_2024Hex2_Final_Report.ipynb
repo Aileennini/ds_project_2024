{
 "cells": [
  {
   "cell_type": "markdown",
   "id": "114c7555-647f-4cff-9aea-f9fff91efd86",
   "metadata": {},
   "source": [
    "## <center> Assessment 3 - Team J\n",
    "\n",
    "# <center> A DATA SCIENCE APPROACH TO EXPLORE VARIABILITY IN ELECTRICITY DEMAND FORECAST IN NEW SOUTH WALES AND THE IMPACTS OF RENEWABLE ENERGY ADOPTION\n",
    "\n",
    "<center> Authors: Siyi Chen(z5347249), Udayan Chelvaratnam (z5043038), Partha Das (z5388973), Kedar Viswanathan (z5345069)"
   ]
  },
  {
   "cell_type": "markdown",
   "id": "eea56151-171b-4436-bc5c-c87157711857",
   "metadata": {},
   "source": [
    "## Table of Contents\n",
    "\n",
    "* Abstract\n",
    "* Introduction\n",
    "* Literature Review\n",
    "* Material and Methods\n",
    "* Exploratory Data Analysis (EDA)\n",
    "* Analysis of Results\n",
    "* Discussion, Conclusion and Further Issues"
   ]
  },
  {
   "cell_type": "markdown",
   "id": "6806c045-1cd9-4914-870e-4030a44e23dc",
   "metadata": {},
   "source": [
    "## Abstract"
   ]
  },
  {
   "cell_type": "markdown",
   "id": "0e454670-f8f3-4b28-a402-02eae7090600",
   "metadata": {},
   "source": [
    "## Introduction\n",
    "\n",
    "With the advent of industrialisation, rapid adoption of technology, growth in population and life expectancy, and globalisation in the 20th century, energy demand has increased exponentially during the last century, and the trend is continuing. Global energy consumption is expected to increase by 50% within this decade if the current consumption pattern continues (Smith et al., 2007). Disruptions in power can have serious economic impacts, both for industries, and individual companies. In December of 2023, the Australian Energy Market Commission (AEMC) introduced new rules to better ensure energy reliability as the country transitions to renewable electricity (Latief, 2023).\r\n",
    "Energy demand management is an important issue for energy suppliers and policy makers in Australia. By 2030, the Australian Energy Market Operator (AEMO) expects 50% of consumers to be driving demand to the National Electricity Market to meet their energy needs (Energy Security Board, 2021\n",
    "\n",
    "\n",
    ".However, electricity consumption (both residential and commercial) in NSW has remained fairly stable and is actually decreasing, even as the overall Gross Domestic Product (GDP) and Population are increasing. This is particularly interesting given the continuing shift to digitisation both in residential and commercial spaces.\n",
    "\r\n",
    "To understand the changing market demand, we can use estimation techniques to predict energy consumption so that both the market, and the companies that operate in them can ensure energy reliability to consum\n",
    "\n",
    "*\n",
    "•\tReliable prediction of short-term and medium-term demand will enable the suppliers to provide uninterrupted support without disruption to support industrial development, critical services and househds.\n",
    "* •\tLonger term prediction will enable policy makers (AEMC and AEMO) to ensure reliable available energy resources in an optimal manner, understanding environmental impact of changing utilisation pattern, framing policy decisions to ensure accessibility and promoting growth in renewable energy sources along with its impact on sustainable economic devel\n",
    "\n",
    "\n",
    "\n",
    "\n",
    "This paper will explore some of the reasons for this shift, as well as the potential options both for energy distrubtors and policy makers to update the"
   ]
  },
  {
   "cell_type": "markdown",
   "id": "56d56f7b-323a-48be-ba0b-d7187134fbf3",
   "metadata": {},
   "source": [
    "## Literature Review\n",
    "\n",
    "Energy models are therefore necessary to ensure the energy reliability at the consumer level as well as overall for energy independence for a country. It is important to choose the right models as over and/or under estimation can have serious implications. Over estimation can result in an incredibly inefficient system, and wasted money, that will undermine the long-term reliability of the energy supply. Under estimation on the other hand can result in short term power outages with significant economic impacts.\n",
    "\r\n",
    "Historically various energy models have been developed and adopted across the world, using a range of macro-economic variables along with various mathematical and computing techniques. A conditional demand analysis (CDA) is used to model residential energy consumption in Canada (Aydinalp-Koksal and Ugursal, 2008). In Japan, a model simulating energy consumption by considering diversity of household and building types in used for projection of energy requirement for residential sector (Shimoda et al., 2010). In China, a model based on decision drivers for electricity supply and demand is used to forecast business as usual, optimistic and conservative scenario by quantifying a range of decision drivers consisting of economic growth, structure energy efficiency, urbanisation, change in per capita income, initiatives to promote renewable energy, price of coal and natural gas etc. (Steenhof and Fulton, 2007\n",
    "\n",
    "\n",
    "\n",
    ".\r\n",
    "Energy demand models can be broadly categorised as statistical models, econometric models and machine learning models. The influence of economic and demographic variables is evident for medium to long term demand projection. A multiple linear regression model for annual electricity consumption in New Zealand used GDP, average price of electricity and population and found strong correlation between the predictors and electricity consumption (Mohamed and Bodger, 2005).  For short term forecasting purpose, however, factors such as temperature, humidity, population density along with past consumption trend is more suitable (Hagan and Behr, 1987) (Nogales et al., 2002). \r\n"
   ]
  },
  {
   "cell_type": "markdown",
   "id": "9ba9eea5-6c22-4a9b-8322-5e6eab71a7bb",
   "metadata": {},
   "source": [
    "## Material and Methods"
   ]
  },
  {
   "cell_type": "markdown",
   "id": "dd84c271-4bff-4f2a-916d-8f7587b5c34f",
   "metadata": {},
   "source": [
    "## Exploratory Data Analysis (EDA)"
   ]
  },
  {
   "cell_type": "markdown",
   "id": "07714d1a-d9c5-43aa-9795-6896cfb2a010",
   "metadata": {},
   "source": [
    "## Analysis of Results"
   ]
  },
  {
   "cell_type": "markdown",
   "id": "8e16e621-d2e6-4afd-9ddf-50035f619b58",
   "metadata": {},
   "source": [
    "## Discussion, Conclusion and Further Issues"
   ]
  },
  {
   "cell_type": "markdown",
   "id": "42446178-1354-4946-82d3-babc8ccaa60f",
   "metadata": {},
   "source": [
    "## References"
   ]
  },
  {
   "cell_type": "code",
   "execution_count": null,
   "id": "3bf65d4f-8b01-4b11-9449-cee988ac70c6",
   "metadata": {},
   "outputs": [],
   "source": []
  }
 ],
 "metadata": {
  "kernelspec": {
   "display_name": "Python 3 (ipykernel)",
   "language": "python",
   "name": "python3"
  },
  "language_info": {
   "codemirror_mode": {
    "name": "ipython",
    "version": 3
   },
   "file_extension": ".py",
   "mimetype": "text/x-python",
   "name": "python",
   "nbconvert_exporter": "python",
   "pygments_lexer": "ipython3",
   "version": "3.11.7"
  }
 },
 "nbformat": 4,
 "nbformat_minor": 5
}
